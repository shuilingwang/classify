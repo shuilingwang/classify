{
 "cells": [
  {
   "cell_type": "code",
   "execution_count": 16,
   "id": "68816b8e-92e7-4597-810a-148485616df3",
   "metadata": {},
   "outputs": [],
   "source": [
    "import re\n",
    "import os\n",
    "from jieba import cut\n",
    "from itertools import chain\n",
    "from collections import Counter\n",
    "import numpy as np\n",
    "from sklearn.naive_bayes import MultinomialNB\n",
    "from sklearn.feature_extraction.text import TfidfVectorizer\n",
    "from imblearn.over_sampling import SMOTE\n",
    "from sklearn.metrics import classification_report"
   ]
  },
  {
   "cell_type": "code",
   "execution_count": 17,
   "id": "9aa802c5-206b-45c7-8972-d5e47d18c8ab",
   "metadata": {},
   "outputs": [],
   "source": [
    "test_files = ['邮件_files/151.txt', '邮件_files/152.txt']"
   ]
  },
  {
   "cell_type": "code",
   "execution_count": 18,
   "id": "a92640b4-59de-4834-9a03-fec80ffa6012",
   "metadata": {},
   "outputs": [],
   "source": [
    "def get_words(filename):\n",
    "    \"\"\"读取文本并过滤无效字符和长度为1的词\"\"\"\n",
    "    words = []\n",
    "    with open(filename, 'r', encoding='utf-8') as fr:\n",
    "        for line in fr:\n",
    "            line = line.strip()\n",
    "            # 过滤无效字符\n",
    "            line = re.sub(r'[【】0-9、——。，！~\\*]', '', line)\n",
    "            # 使用jieba.cut()方法对文本切词处理\n",
    "            line = cut(line)\n",
    "            # 过滤长度为1的词\n",
    "            line = filter(lambda word: len(word) > 1, line)\n",
    "            words.extend(line)\n",
    "    return words"
   ]
  },
  {
   "cell_type": "code",
   "execution_count": 19,
   "id": "4e7f6158-7fed-4f32-9a12-877d715df0cb",
   "metadata": {},
   "outputs": [],
   "source": [
    "def get_top_words(top_num, file_list):\n",
    "    \"\"\"遍历邮件建立词库后返回出现次数最多的词\"\"\"\n",
    "    all_words = []\n",
    "    for filename in file_list:\n",
    "        all_words.extend(get_words(filename))\n",
    "    # 统计词频\n",
    "    freq = Counter(all_words)\n",
    "    return [i[0] for i in freq.most_common(top_num)]"
   ]
  },
  {
   "cell_type": "code",
   "execution_count": 20,
   "id": "fa62bf0f-2259-4761-a546-7e114cb33422",
   "metadata": {},
   "outputs": [],
   "source": [
    "def get_tfidf_features(file_list, top_num=None):\n",
    "    \"\"\"使用TF-IDF提取特征\"\"\"\n",
    "    texts = []\n",
    "    for filename in file_list:\n",
    "        with open(filename, 'r', encoding='utf-8') as fr:\n",
    "            text = fr.read()\n",
    "            # 过滤无效字符\n",
    "            text = re.sub(r'[【】0-9、——。，！~\\*]', '', text)\n",
    "            texts.append(text)\n",
    "    vectorizer = TfidfVectorizer(max_features=top_num)\n",
    "    tfidf_matrix = vectorizer.fit_transform(texts)\n",
    "    return tfidf_matrix, vectorizer\n"
   ]
  },
  {
   "cell_type": "code",
   "execution_count": 21,
   "id": "11a123cd-6bc6-4556-8b09-1a19a08bef9f",
   "metadata": {},
   "outputs": [],
   "source": [
    "def preprocess(file_list, feature_type='high_freq', top_num=100):\n",
    "    \"\"\"数据预处理，支持高频词和TF-IDF特征提取\"\"\"\n",
    "    if feature_type == 'high_freq':\n",
    "        all_words = []\n",
    "        for filename in file_list:\n",
    "            all_words.extend(get_words(filename))\n",
    "        freq = Counter(all_words)\n",
    "        top_words = [i[0] for i in freq.most_common(top_num)]\n",
    "        # 构建词向量\n",
    "        vectors = []\n",
    "        for filename in file_list:\n",
    "            words = get_words(filename)\n",
    "            word_map = [words.count(word) for word in top_words]\n",
    "            vectors.append(word_map)\n",
    "        return np.array(vectors), top_words\n",
    "    elif feature_type == 'tfidf':\n",
    "        vectors, vectorizer = get_tfidf_features(file_list, top_num)\n",
    "        return vectors, vectorizer\n",
    "    else:\n",
    "        raise ValueError(\"Unsupported feature type. Choose 'high_freq' or 'tfidf'.\")"
   ]
  },
  {
   "cell_type": "code",
   "execution_count": 22,
   "id": "2734da73-5b2d-46ec-b6fe-4e5c9e9fa83c",
   "metadata": {},
   "outputs": [],
   "source": [
    "def balance_samples(X, y):\n",
    "    \"\"\"使用SMOTE进行样本平衡\"\"\"\n",
    "    smote = SMOTE(random_state=42)\n",
    "    X_resampled, y_resampled = smote.fit_resample(X, y)\n",
    "    return X_resampled, y_resampled"
   ]
  },
  {
   "cell_type": "code",
   "execution_count": 23,
   "id": "3bacf642-93dc-4947-99dd-7cf5c8382b4a",
   "metadata": {},
   "outputs": [],
   "source": [
    "def train_and_predict(file_list, labels, feature_type='high_freq', top_num=100, balance=False):\n",
    "    \"\"\"训练模型并进行预测\"\"\"\n",
    "    # 数据预处理\n",
    "    if feature_type == 'high_freq':\n",
    "        X, top_words = preprocess(file_list, feature_type, top_num)\n",
    "        if balance:\n",
    "            X_resampled, y_resampled = balance_samples(X, labels)\n",
    "            model = MultinomialNB()\n",
    "            model.fit(X_resampled, y_resampled)\n",
    "        else:\n",
    "            model = MultinomialNB()\n",
    "            model.fit(X, labels)\n",
    "        return model, top_words  # 返回模型和 top_words\n",
    "    elif feature_type == 'tfidf':\n",
    "        X, vectorizer = preprocess(file_list, feature_type, top_num)\n",
    "        if balance:\n",
    "            # TF-IDF 矩阵需要转换为密集矩阵\n",
    "            X_dense = X.toarray()\n",
    "            X_resampled, y_resampled = balance_samples(X_dense, labels)\n",
    "            model = MultinomialNB()\n",
    "            model.fit(X_resampled, y_resampled)\n",
    "        else:\n",
    "            model = MultinomialNB()\n",
    "            model.fit(X, labels)\n",
    "        return model, vectorizer  # 返回模型和 vectorizer\n",
    "    else:\n",
    "        raise ValueError(\"Unsupported feature type. Choose 'high_freq' or 'tfidf'.\")"
   ]
  },
  {
   "cell_type": "code",
   "execution_count": 25,
   "id": "b38abc3f-ef88-4bb6-aa72-38fc2caf0139",
   "metadata": {},
   "outputs": [],
   "source": [
    "def predict_file(model, feature_type, filename, top_words=None, vectorizer=None):\n",
    "    \"\"\"对未知邮件分类\"\"\"\n",
    "    if feature_type == 'high_freq':\n",
    "        # 高频词特征\n",
    "        words = get_words(filename)\n",
    "        word_map = [words.count(word) for word in top_words]\n",
    "        current_vector = np.array(word_map).reshape(1, -1)\n",
    "    elif feature_type == 'tfidf':\n",
    "        # TF-IDF特征\n",
    "        with open(filename, 'r', encoding='utf-8') as fr:\n",
    "            text = fr.read()\n",
    "            # 过滤无效字符\n",
    "            text = re.sub(r'[【】0-9、——。，！~\\*]', '', text)\n",
    "            current_vector = vectorizer.transform([text])\n",
    "    else:\n",
    "        raise ValueError(\"Unsupported feature type. Choose 'high_freq' or 'tfidf'.\")\n",
    "    \n",
    "    # 预测结果\n",
    "    result = model.predict(current_vector)\n",
    "    return '垃圾邮件' if result[0] == 1 else '普通邮件'"
   ]
  },
  {
   "cell_type": "code",
   "execution_count": 26,
   "id": "34cd5c9c-40ad-4afb-b925-7ab99440197f",
   "metadata": {},
   "outputs": [
    {
     "name": "stdout",
     "output_type": "stream",
     "text": [
      "使用高频词特征进行训练和预测...\n",
      "使用TF-IDF特征进行训练和预测...\n",
      "邮件_files/151.txt 分类情况（高频词特征）：普通邮件\n",
      "邮件_files/151.txt 分类情况（TF-IDF特征）：普通邮件\n",
      "邮件_files/152.txt 分类情况（高频词特征）：垃圾邮件\n",
      "邮件_files/152.txt 分类情况（TF-IDF特征）：垃圾邮件\n"
     ]
    }
   ],
   "source": [
    "if __name__ == \"__main__\":\n",
    "    # 文件列表\n",
    "    file_list = ['邮件_files/{}.txt'.format(i) for i in range(1, 152)]\n",
    "    labels = np.array([1] * 127 + [0] * 24)\n",
    "\n",
    "    # 特征选择：高频词特征\n",
    "    print(\"使用高频词特征进行训练和预测...\")\n",
    "    model_high_freq, top_words = train_and_predict(file_list, labels.copy(), feature_type='high_freq', top_num=100, balance=True)\n",
    "\n",
    "    # 特征选择：TF-IDF特征\n",
    "    print(\"使用TF-IDF特征进行训练和预测...\")\n",
    "    model_tfidf, vectorizer = train_and_predict(file_list, labels.copy(), feature_type='tfidf', top_num=100, balance=True)\n",
    "\n",
    "    # 预测示例\n",
    "    test_files = ['邮件_files/151.txt', '邮件_files/152.txt']\n",
    "    for file in test_files:\n",
    "        print(f\"{file} 分类情况（高频词特征）：{predict_file(model_high_freq, 'high_freq', file, top_words=top_words)}\")\n",
    "        print(f\"{file} 分类情况（TF-IDF特征）：{predict_file(model_tfidf, 'tfidf', file, vectorizer=vectorizer)}\")"
   ]
  }
 ],
 "metadata": {
  "kernelspec": {
   "display_name": "Python 3 (ipykernel)",
   "language": "python",
   "name": "python3"
  },
  "language_info": {
   "codemirror_mode": {
    "name": "ipython",
    "version": 3
   },
   "file_extension": ".py",
   "mimetype": "text/x-python",
   "name": "python",
   "nbconvert_exporter": "python",
   "pygments_lexer": "ipython3",
   "version": "3.10.16"
  }
 },
 "nbformat": 4,
 "nbformat_minor": 5
}
